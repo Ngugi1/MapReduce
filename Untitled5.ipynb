{
 "cells": [
  {
   "cell_type": "code",
   "execution_count": 97,
   "metadata": {
    "scrolled": true
   },
   "outputs": [
    {
     "name": "stdout",
     "output_type": "stream",
     "text": [
      "Search Details:\n",
      "\n",
      "Searched for summary:\n",
      "\n",
      " In this project we analysed how much semantic information images carry, and how much value image data can add to sentiment analysis of the text associated with the images. To better understand the contribution from images, we compared models which only made use of image data, models which only made use of text data, and models which combined both data types. We also analysed if this approach could help sentiment classifiers generalize to unknown sentiments \n",
      "\n",
      "\n",
      "Closest summary found:\n",
      "\n",
      " In this project we analysed how much semantic information images carry, and\n",
      "how much value image data can add to sentiment analysis of the text associated\n",
      "with the images. To better understand the contribution from images, we compared\n",
      "models which only made use of image data, models which only made use of text\n",
      "data, and models which combined both data types. We also analysed if this\n",
      "approach could help sentiment classifiers generalize to unknown sentiments. \n",
      "\n",
      "\n",
      "Most closest summary resemblence seen for paper:\n",
      "\n",
      " ['1712.00725v1 - Sentiment Classification using Images and Label Embeddings'] \n",
      "\n",
      "with Jaccard distance =  0.037735849056603765\n"
     ]
    }
   ],
   "source": [
    "import json\n",
    "\n",
    "Summary_Id_list ={}\n",
    "\n",
    "with open('arxivData.json') as json_file:\n",
    "    data = json.load(json_file)\n",
    "    \n",
    "    for p in data:\n",
    "        \n",
    "        summary_as_set = set()\n",
    "        creating_summary_to_set = p['summary'].split()\n",
    "        \n",
    "        for x in creating_summary_to_set:\n",
    "            summary_as_set.add(x)\n",
    "            key = p['id'] + ' - ' + p['title']\n",
    "        \n",
    "        Summary_Id_list [key] = summary_as_set\n",
    "        \n",
    "#print(Summary_Id_list['1712.00725v1 - Sentiment Classification using Images and Label Embeddings'])\n",
    "\n",
    "summary_to_search_file = open(\"testsummary.txt\", \"r\")\n",
    "summary_to_search_file_contents = summary_to_search_file.read().split()\n",
    "summary_to_search = ' '.join(map(str, summary_to_search_file_contents))\n",
    "summary_to_search_as_set = set()\n",
    "\n",
    "for x in summary_to_search_file_contents:\n",
    "    summary_to_search_as_set.add(x)\n",
    "\n",
    "#print (summary_to_search_as_set)\n",
    "\n",
    "\n",
    "Jaccard_distance = {}\n",
    "\n",
    "for dictitem in Summary_Id_list:\n",
    "    \n",
    "    Set_to_compare = Summary_Id_list.get(dictitem)\n",
    "    set_intersection = Set_to_compare & summary_to_search_as_set\n",
    "    jaccard_index = len(set_intersection) / (len(Set_to_compare) + len(summary_to_search_as_set) - len(set_intersection))\n",
    "    computed_jaccard_distance = 1 - jaccard_index\n",
    "    \n",
    "    Jaccard_distance [dictitem] = computed_jaccard_distance\n",
    "    \n",
    "minimum_jaccard_distance = min(Jaccard_distance.values()) \n",
    "closest_matching_title = [dictitem for dictitem in Jaccard_distance if Jaccard_distance[dictitem] == minimum_jaccard_distance]\n",
    "\n",
    "\n",
    "def get_summary_of_title():\n",
    "    \n",
    "    for p in data:\n",
    "    \n",
    "        if ((p['id'] + ' - ' + p['title']) == closest_matching_title[0]):\n",
    "            return (p['summary'])\n",
    "        \n",
    "\n",
    "print ('Search Details:')\n",
    "print ('\\nSearched for summary:\\n\\n', summary_to_search, '\\n')\n",
    "print ('\\nClosest summary found:\\n\\n', get_summary_of_title(), '\\n')\n",
    "print ('\\nMost closest summary resemblence seen for paper:\\n\\n', closest_matching_title, '\\n\\nwith Jaccard distance = ', minimum_jaccard_distance)"
   ]
  },
  {
   "cell_type": "code",
   "execution_count": null,
   "metadata": {},
   "outputs": [],
   "source": []
  }
 ],
 "metadata": {
  "kernelspec": {
   "display_name": "Python 3",
   "language": "python",
   "name": "python3"
  },
  "language_info": {
   "codemirror_mode": {
    "name": "ipython",
    "version": 3
   },
   "file_extension": ".py",
   "mimetype": "text/x-python",
   "name": "python",
   "nbconvert_exporter": "python",
   "pygments_lexer": "ipython3",
   "version": "3.7.0"
  }
 },
 "nbformat": 4,
 "nbformat_minor": 2
}
